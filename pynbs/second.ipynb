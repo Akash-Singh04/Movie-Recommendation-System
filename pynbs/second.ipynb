{
 "cells": [
  {
   "cell_type": "code",
   "execution_count": 5,
   "metadata": {},
   "outputs": [],
   "source": [
    "import numpy as np\n",
    "import pandas as pd\n",
    "import joblib"
   ]
  },
  {
   "cell_type": "code",
   "execution_count": 6,
   "metadata": {},
   "outputs": [
    {
     "name": "stdout",
     "output_type": "stream",
     "text": [
      "\n"
     ]
    }
   ],
   "source": [
    "new_ds=pd.read_csv(\"new_ds.csv\")\n",
    "svd=joblib.load('../models/svd_model.pkl')\n",
    "ratings=pd.read_csv(r\"../dataset/ratings.csv\")\n",
    "try:\n",
    "    ratings1=pd.read_csv(r\"F:\\movie_recommendor\\ratings1.csv\")\n",
    "except FileNotFoundError:\n",
    "    print(\"\")"
   ]
  },
  {
   "cell_type": "code",
   "execution_count": 7,
   "metadata": {},
   "outputs": [],
   "source": [
    "def merge(ratings1,ratings):\n",
    "    ratings=ratings.append(ratings1,ignore_index=True)\n",
    "    return ratings"
   ]
  },
  {
   "cell_type": "code",
   "execution_count": 8,
   "metadata": {},
   "outputs": [],
   "source": [
    "def recommendonmovie(movie):\n",
    "    similarity=np.load('similaritybwmovies.npy')\n",
    "    movie_index=new_ds[new_ds[\"title1\"]==movie].index[0]\n",
    "    distances=similarity[movie_index]\n",
    "    movies_list=sorted(list(enumerate(distances)),reverse=True,key=lambda x:x[1])[1:11]\n",
    "    for i in movies_list:\n",
    "        print(new_ds.iloc[i[0]].title1)\n",
    "    "
   ]
  },
  {
   "cell_type": "code",
   "execution_count": 9,
   "metadata": {},
   "outputs": [],
   "source": [
    "def del_variable(variable1):\n",
    "    del variable1\n",
    "del_variable(svd)"
   ]
  },
  {
   "cell_type": "code",
   "execution_count": 10,
   "metadata": {},
   "outputs": [],
   "source": [
    "def get_best_movies(obj,id,obj1):\n",
    "    movieid=obj1['id'].unique()\n",
    "    l=[]\n",
    "    b=[]\n",
    "    for movie in movieid:\n",
    "        result=svd.predict(id,movie)\n",
    "        estimation=result[3]\n",
    "        b.append((movie,estimation))\n",
    "    return b"
   ]
  },
  {
   "cell_type": "code",
   "execution_count": 11,
   "metadata": {},
   "outputs": [],
   "source": [
    "def get_recommendations(userid):\n",
    "    predictions=get_best_movies(ratings,userid,new_ds)\n",
    "    lis=[]\n",
    "    sorted_predictions=sorted(predictions,key=lambda x:x[1],reverse=True)\n",
    "    sorted_predictions=sorted_predictions[0:10]\n",
    "    \n",
    "    for i in sorted_predictions:\n",
    "        specific_row =new_ds[new_ds[\"id\"]==i[0]]['title1'].values[0]\n",
    "        print(specific_row)\n",
    "        "
   ]
  },
  {
   "cell_type": "code",
   "execution_count": 12,
   "metadata": {},
   "outputs": [
    {
     "name": "stdout",
     "output_type": "stream",
     "text": [
      "5 Card Stud\n",
      "The Scapegoat\n",
      "Sleepless in Seattle\n",
      "The Million Dollar Hotel\n",
      "CrissCross\n",
      "Shriek If You Know What I Did Last Friday the Thirteenth\n",
      "A Woman, a Gun and a Noodle Shop\n",
      "The 39 Steps\n",
      "License to Wed\n",
      "Commune\n"
     ]
    }
   ],
   "source": [
    "get_recommendations(7800)"
   ]
  },
  {
   "cell_type": "code",
   "execution_count": 13,
   "metadata": {},
   "outputs": [
    {
     "name": "stdout",
     "output_type": "stream",
     "text": [
      "The Quiller Memorandum\n",
      "The Secret Fury\n",
      "Secret Agent\n",
      "Topaz\n",
      "The Unsuspected\n",
      "Deadly Blessing\n",
      "Mystery Road\n",
      "The Marksman\n",
      "A Night to Remember\n",
      "The Missing Juror\n"
     ]
    }
   ],
   "source": [
    "recommendonmovie('The 39 Steps')"
   ]
  },
  {
   "cell_type": "code",
   "execution_count": 14,
   "metadata": {},
   "outputs": [],
   "source": [
    "moviesnew=pd.read_csv(r\"moviesnew.csv\")"
   ]
  },
  {
   "attachments": {},
   "cell_type": "markdown",
   "metadata": {},
   "source": []
  },
  {
   "cell_type": "code",
   "execution_count": 15,
   "metadata": {},
   "outputs": [],
   "source": [
    "moviesnew['tag']=moviesnew['tag'].apply(lambda x:x.replace(\" \",''))\n",
    "moviesnew['tag']=moviesnew['tag'].apply(lambda x:x.lower())"
   ]
  },
  {
   "cell_type": "code",
   "execution_count": 16,
   "metadata": {},
   "outputs": [],
   "source": [
    "def search(keywords):\n",
    "    import re\n",
    "    keywords=keywords.lower()\n",
    "    keywords=keywords.split()\n",
    "  \n",
    "    # Filter the DataFrame based on the keywords\n",
    "    filtered_rows = []\n",
    "    for index, row in moviesnew.iterrows():\n",
    "        text = row['tag']\n",
    "        \n",
    "        if all(re.search(keyword, text) for keyword in keywords):\n",
    "            filtered_rows.append(row)\n",
    "        \n",
    "        \n",
    "\n",
    "    filtered_df = pd.DataFrame(filtered_rows)\n",
    "    try:\n",
    "\n",
    "        filtered_df=filtered_df.sort_values(by='vote_average',ascending=False)\n",
    "    # Print the filtered DataFrame\n",
    "        print(\"not found exact results\")\n",
    "        print(filtered_df[\"title1\"].head(25))\n",
    "    except KeyError:\n",
    "        filtered_rows = []\n",
    "        for index, row in moviesnew.iterrows():\n",
    "            text = row['tag']\n",
    "            \n",
    "            if any(re.search(keyword, text) for keyword in keywords):\n",
    "                filtered_rows.append(row)\n",
    "        filtered_df = pd.DataFrame(filtered_rows)\n",
    "        filtered_df=filtered_df.sort_values(by='vote_average',ascending=False)\n",
    "        print(filtered_df['title1'].head(25))\n"
   ]
  },
  {
   "cell_type": "code",
   "execution_count": 17,
   "metadata": {},
   "outputs": [
    {
     "name": "stdout",
     "output_type": "stream",
     "text": [
      "not found exact results\n",
      "42875                                       Zombie Pizza\n",
      "31156                                          Zapatlela\n",
      "43154                       Carnage: Swallowing the Past\n",
      "24413                                            Ward 13\n",
      "44465                      Hasan Minhaj: Homecoming King\n",
      "29115    Forklift Driver Klaus: The First Day on the Job\n",
      "38196                                      Mock Up on Mu\n",
      "1090                                       The Sleepover\n",
      "27652                             Danger! 50,000 Zombies\n",
      "13445                                    Singapore Sling\n",
      "736                                              Careful\n",
      "11306                   Fear City: A Family-Style Comedy\n",
      "27473                                      Fist of Jesus\n",
      "10412                                   Survive Style 5+\n",
      "37589                                     Demonte Colony\n",
      "4676                             Phantom of the Paradise\n",
      "1225                                        Evil Dead II\n",
      "5819                                  Britannia Hospital\n",
      "8182                                   Shaun of the Dead\n",
      "3815               Abbott and Costello Meet Frankenstein\n",
      "16301                                       Doppelganger\n",
      "2550                       The Rocky Horror Picture Show\n",
      "24415                          What We Do in the Shadows\n",
      "1205                                           Braindead\n",
      "44264                                          Hair High\n",
      "Name: title1, dtype: object\n"
     ]
    }
   ],
   "source": [
    "search(\"horror comedy\")\n"
   ]
  },
  {
   "cell_type": "code",
   "execution_count": 18,
   "metadata": {},
   "outputs": [],
   "source": [
    "def create_userid():\n",
    "    a=ratings['userId']\n",
    "    userid=a.max()+1\n",
    "    return userid\n"
   ]
  },
  {
   "cell_type": "code",
   "execution_count": 19,
   "metadata": {},
   "outputs": [],
   "source": [
    "\n",
    "def giverating(userid,movieid,rating):\n",
    "    import time\n",
    "    timestamp=int(time.time())\n",
    "    \n",
    "\n",
    "    ratings1=pd.DataFrame({'userId':[userid],'movieId':[movieid],'rating':[rating],'timestamp':[int(timestamp)]})\n",
    "   \n",
    "    ratings1.to_csv(r\"F:\\movie_recommendor\\ratings1.csv\",index=False)"
   ]
  },
  {
   "cell_type": "code",
   "execution_count": 20,
   "metadata": {},
   "outputs": [
    {
     "ename": "OSError",
     "evalue": "Cannot save file into a non-existent directory: 'F:\\movie_recommendor'",
     "output_type": "error",
     "traceback": [
      "\u001b[1;31m---------------------------------------------------------------------------\u001b[0m",
      "\u001b[1;31mOSError\u001b[0m                                   Traceback (most recent call last)",
      "\u001b[1;32mc:\\Users\\USER\\Desktop\\Confidential\\Programming\\ML\\MovieRecommendationSystem\\pynbs\\second.ipynb Cell 17\u001b[0m in \u001b[0;36m1\n\u001b[1;32m----> <a href='vscode-notebook-cell:/c%3A/Users/USER/Desktop/Confidential/Programming/ML/MovieRecommendationSystem/pynbs/second.ipynb#X22sZmlsZQ%3D%3D?line=0'>1</a>\u001b[0m giverating(\u001b[39m270896\u001b[39;49m,\u001b[39m110\u001b[39;49m,\u001b[39m5\u001b[39;49m)\n\u001b[0;32m      <a href='vscode-notebook-cell:/c%3A/Users/USER/Desktop/Confidential/Programming/ML/MovieRecommendationSystem/pynbs/second.ipynb#X22sZmlsZQ%3D%3D?line=1'>2</a>\u001b[0m ratings\u001b[39m=\u001b[39mmerge(ratings1,ratings)\n",
      "\u001b[1;32mc:\\Users\\USER\\Desktop\\Confidential\\Programming\\ML\\MovieRecommendationSystem\\pynbs\\second.ipynb Cell 17\u001b[0m in \u001b[0;36m8\n\u001b[0;32m      <a href='vscode-notebook-cell:/c%3A/Users/USER/Desktop/Confidential/Programming/ML/MovieRecommendationSystem/pynbs/second.ipynb#X22sZmlsZQ%3D%3D?line=2'>3</a>\u001b[0m timestamp\u001b[39m=\u001b[39m\u001b[39mint\u001b[39m(time\u001b[39m.\u001b[39mtime())\n\u001b[0;32m      <a href='vscode-notebook-cell:/c%3A/Users/USER/Desktop/Confidential/Programming/ML/MovieRecommendationSystem/pynbs/second.ipynb#X22sZmlsZQ%3D%3D?line=5'>6</a>\u001b[0m ratings1\u001b[39m=\u001b[39mpd\u001b[39m.\u001b[39mDataFrame({\u001b[39m'\u001b[39m\u001b[39muserId\u001b[39m\u001b[39m'\u001b[39m:[userid],\u001b[39m'\u001b[39m\u001b[39mmovieId\u001b[39m\u001b[39m'\u001b[39m:[movieid],\u001b[39m'\u001b[39m\u001b[39mrating\u001b[39m\u001b[39m'\u001b[39m:[rating],\u001b[39m'\u001b[39m\u001b[39mtimestamp\u001b[39m\u001b[39m'\u001b[39m:[\u001b[39mint\u001b[39m(timestamp)]})\n\u001b[1;32m----> <a href='vscode-notebook-cell:/c%3A/Users/USER/Desktop/Confidential/Programming/ML/MovieRecommendationSystem/pynbs/second.ipynb#X22sZmlsZQ%3D%3D?line=7'>8</a>\u001b[0m ratings1\u001b[39m.\u001b[39;49mto_csv(\u001b[39mr\u001b[39;49m\u001b[39m\"\u001b[39;49m\u001b[39mF:\u001b[39;49m\u001b[39m\\\u001b[39;49m\u001b[39mmovie_recommendor\u001b[39;49m\u001b[39m\\\u001b[39;49m\u001b[39mratings1.csv\u001b[39;49m\u001b[39m\"\u001b[39;49m,index\u001b[39m=\u001b[39;49m\u001b[39mFalse\u001b[39;49;00m)\n",
      "File \u001b[1;32mc:\\Users\\USER\\anaconda3\\lib\\site-packages\\pandas\\util\\_decorators.py:211\u001b[0m, in \u001b[0;36mdeprecate_kwarg.<locals>._deprecate_kwarg.<locals>.wrapper\u001b[1;34m(*args, **kwargs)\u001b[0m\n\u001b[0;32m    209\u001b[0m     \u001b[39melse\u001b[39;00m:\n\u001b[0;32m    210\u001b[0m         kwargs[new_arg_name] \u001b[39m=\u001b[39m new_arg_value\n\u001b[1;32m--> 211\u001b[0m \u001b[39mreturn\u001b[39;00m func(\u001b[39m*\u001b[39margs, \u001b[39m*\u001b[39m\u001b[39m*\u001b[39mkwargs)\n",
      "File \u001b[1;32mc:\\Users\\USER\\anaconda3\\lib\\site-packages\\pandas\\core\\generic.py:3720\u001b[0m, in \u001b[0;36mNDFrame.to_csv\u001b[1;34m(self, path_or_buf, sep, na_rep, float_format, columns, header, index, index_label, mode, encoding, compression, quoting, quotechar, lineterminator, chunksize, date_format, doublequote, escapechar, decimal, errors, storage_options)\u001b[0m\n\u001b[0;32m   3709\u001b[0m df \u001b[39m=\u001b[39m \u001b[39mself\u001b[39m \u001b[39mif\u001b[39;00m \u001b[39misinstance\u001b[39m(\u001b[39mself\u001b[39m, ABCDataFrame) \u001b[39melse\u001b[39;00m \u001b[39mself\u001b[39m\u001b[39m.\u001b[39mto_frame()\n\u001b[0;32m   3711\u001b[0m formatter \u001b[39m=\u001b[39m DataFrameFormatter(\n\u001b[0;32m   3712\u001b[0m     frame\u001b[39m=\u001b[39mdf,\n\u001b[0;32m   3713\u001b[0m     header\u001b[39m=\u001b[39mheader,\n\u001b[1;32m   (...)\u001b[0m\n\u001b[0;32m   3717\u001b[0m     decimal\u001b[39m=\u001b[39mdecimal,\n\u001b[0;32m   3718\u001b[0m )\n\u001b[1;32m-> 3720\u001b[0m \u001b[39mreturn\u001b[39;00m DataFrameRenderer(formatter)\u001b[39m.\u001b[39;49mto_csv(\n\u001b[0;32m   3721\u001b[0m     path_or_buf,\n\u001b[0;32m   3722\u001b[0m     lineterminator\u001b[39m=\u001b[39;49mlineterminator,\n\u001b[0;32m   3723\u001b[0m     sep\u001b[39m=\u001b[39;49msep,\n\u001b[0;32m   3724\u001b[0m     encoding\u001b[39m=\u001b[39;49mencoding,\n\u001b[0;32m   3725\u001b[0m     errors\u001b[39m=\u001b[39;49merrors,\n\u001b[0;32m   3726\u001b[0m     compression\u001b[39m=\u001b[39;49mcompression,\n\u001b[0;32m   3727\u001b[0m     quoting\u001b[39m=\u001b[39;49mquoting,\n\u001b[0;32m   3728\u001b[0m     columns\u001b[39m=\u001b[39;49mcolumns,\n\u001b[0;32m   3729\u001b[0m     index_label\u001b[39m=\u001b[39;49mindex_label,\n\u001b[0;32m   3730\u001b[0m     mode\u001b[39m=\u001b[39;49mmode,\n\u001b[0;32m   3731\u001b[0m     chunksize\u001b[39m=\u001b[39;49mchunksize,\n\u001b[0;32m   3732\u001b[0m     quotechar\u001b[39m=\u001b[39;49mquotechar,\n\u001b[0;32m   3733\u001b[0m     date_format\u001b[39m=\u001b[39;49mdate_format,\n\u001b[0;32m   3734\u001b[0m     doublequote\u001b[39m=\u001b[39;49mdoublequote,\n\u001b[0;32m   3735\u001b[0m     escapechar\u001b[39m=\u001b[39;49mescapechar,\n\u001b[0;32m   3736\u001b[0m     storage_options\u001b[39m=\u001b[39;49mstorage_options,\n\u001b[0;32m   3737\u001b[0m )\n",
      "File \u001b[1;32mc:\\Users\\USER\\anaconda3\\lib\\site-packages\\pandas\\util\\_decorators.py:211\u001b[0m, in \u001b[0;36mdeprecate_kwarg.<locals>._deprecate_kwarg.<locals>.wrapper\u001b[1;34m(*args, **kwargs)\u001b[0m\n\u001b[0;32m    209\u001b[0m     \u001b[39melse\u001b[39;00m:\n\u001b[0;32m    210\u001b[0m         kwargs[new_arg_name] \u001b[39m=\u001b[39m new_arg_value\n\u001b[1;32m--> 211\u001b[0m \u001b[39mreturn\u001b[39;00m func(\u001b[39m*\u001b[39margs, \u001b[39m*\u001b[39m\u001b[39m*\u001b[39mkwargs)\n",
      "File \u001b[1;32mc:\\Users\\USER\\anaconda3\\lib\\site-packages\\pandas\\io\\formats\\format.py:1189\u001b[0m, in \u001b[0;36mDataFrameRenderer.to_csv\u001b[1;34m(self, path_or_buf, encoding, sep, columns, index_label, mode, compression, quoting, quotechar, lineterminator, chunksize, date_format, doublequote, escapechar, errors, storage_options)\u001b[0m\n\u001b[0;32m   1168\u001b[0m     created_buffer \u001b[39m=\u001b[39m \u001b[39mFalse\u001b[39;00m\n\u001b[0;32m   1170\u001b[0m csv_formatter \u001b[39m=\u001b[39m CSVFormatter(\n\u001b[0;32m   1171\u001b[0m     path_or_buf\u001b[39m=\u001b[39mpath_or_buf,\n\u001b[0;32m   1172\u001b[0m     lineterminator\u001b[39m=\u001b[39mlineterminator,\n\u001b[1;32m   (...)\u001b[0m\n\u001b[0;32m   1187\u001b[0m     formatter\u001b[39m=\u001b[39m\u001b[39mself\u001b[39m\u001b[39m.\u001b[39mfmt,\n\u001b[0;32m   1188\u001b[0m )\n\u001b[1;32m-> 1189\u001b[0m csv_formatter\u001b[39m.\u001b[39;49msave()\n\u001b[0;32m   1191\u001b[0m \u001b[39mif\u001b[39;00m created_buffer:\n\u001b[0;32m   1192\u001b[0m     \u001b[39massert\u001b[39;00m \u001b[39misinstance\u001b[39m(path_or_buf, StringIO)\n",
      "File \u001b[1;32mc:\\Users\\USER\\anaconda3\\lib\\site-packages\\pandas\\io\\formats\\csvs.py:241\u001b[0m, in \u001b[0;36mCSVFormatter.save\u001b[1;34m(self)\u001b[0m\n\u001b[0;32m    237\u001b[0m \u001b[39m\"\"\"\u001b[39;00m\n\u001b[0;32m    238\u001b[0m \u001b[39mCreate the writer & save.\u001b[39;00m\n\u001b[0;32m    239\u001b[0m \u001b[39m\"\"\"\u001b[39;00m\n\u001b[0;32m    240\u001b[0m \u001b[39m# apply compression and byte/text conversion\u001b[39;00m\n\u001b[1;32m--> 241\u001b[0m \u001b[39mwith\u001b[39;00m get_handle(\n\u001b[0;32m    242\u001b[0m     \u001b[39mself\u001b[39;49m\u001b[39m.\u001b[39;49mfilepath_or_buffer,\n\u001b[0;32m    243\u001b[0m     \u001b[39mself\u001b[39;49m\u001b[39m.\u001b[39;49mmode,\n\u001b[0;32m    244\u001b[0m     encoding\u001b[39m=\u001b[39;49m\u001b[39mself\u001b[39;49m\u001b[39m.\u001b[39;49mencoding,\n\u001b[0;32m    245\u001b[0m     errors\u001b[39m=\u001b[39;49m\u001b[39mself\u001b[39;49m\u001b[39m.\u001b[39;49merrors,\n\u001b[0;32m    246\u001b[0m     compression\u001b[39m=\u001b[39;49m\u001b[39mself\u001b[39;49m\u001b[39m.\u001b[39;49mcompression,\n\u001b[0;32m    247\u001b[0m     storage_options\u001b[39m=\u001b[39;49m\u001b[39mself\u001b[39;49m\u001b[39m.\u001b[39;49mstorage_options,\n\u001b[0;32m    248\u001b[0m ) \u001b[39mas\u001b[39;00m handles:\n\u001b[0;32m    249\u001b[0m \n\u001b[0;32m    250\u001b[0m     \u001b[39m# Note: self.encoding is irrelevant here\u001b[39;00m\n\u001b[0;32m    251\u001b[0m     \u001b[39mself\u001b[39m\u001b[39m.\u001b[39mwriter \u001b[39m=\u001b[39m csvlib\u001b[39m.\u001b[39mwriter(\n\u001b[0;32m    252\u001b[0m         handles\u001b[39m.\u001b[39mhandle,\n\u001b[0;32m    253\u001b[0m         lineterminator\u001b[39m=\u001b[39m\u001b[39mself\u001b[39m\u001b[39m.\u001b[39mlineterminator,\n\u001b[1;32m   (...)\u001b[0m\n\u001b[0;32m    258\u001b[0m         quotechar\u001b[39m=\u001b[39m\u001b[39mself\u001b[39m\u001b[39m.\u001b[39mquotechar,\n\u001b[0;32m    259\u001b[0m     )\n\u001b[0;32m    261\u001b[0m     \u001b[39mself\u001b[39m\u001b[39m.\u001b[39m_save()\n",
      "File \u001b[1;32mc:\\Users\\USER\\anaconda3\\lib\\site-packages\\pandas\\io\\common.py:734\u001b[0m, in \u001b[0;36mget_handle\u001b[1;34m(path_or_buf, mode, encoding, compression, memory_map, is_text, errors, storage_options)\u001b[0m\n\u001b[0;32m    732\u001b[0m \u001b[39m# Only for write methods\u001b[39;00m\n\u001b[0;32m    733\u001b[0m \u001b[39mif\u001b[39;00m \u001b[39m\"\u001b[39m\u001b[39mr\u001b[39m\u001b[39m\"\u001b[39m \u001b[39mnot\u001b[39;00m \u001b[39min\u001b[39;00m mode \u001b[39mand\u001b[39;00m is_path:\n\u001b[1;32m--> 734\u001b[0m     check_parent_directory(\u001b[39mstr\u001b[39;49m(handle))\n\u001b[0;32m    736\u001b[0m \u001b[39mif\u001b[39;00m compression:\n\u001b[0;32m    737\u001b[0m     \u001b[39mif\u001b[39;00m compression \u001b[39m!=\u001b[39m \u001b[39m\"\u001b[39m\u001b[39mzstd\u001b[39m\u001b[39m\"\u001b[39m:\n\u001b[0;32m    738\u001b[0m         \u001b[39m# compression libraries do not like an explicit text-mode\u001b[39;00m\n",
      "File \u001b[1;32mc:\\Users\\USER\\anaconda3\\lib\\site-packages\\pandas\\io\\common.py:597\u001b[0m, in \u001b[0;36mcheck_parent_directory\u001b[1;34m(path)\u001b[0m\n\u001b[0;32m    595\u001b[0m parent \u001b[39m=\u001b[39m Path(path)\u001b[39m.\u001b[39mparent\n\u001b[0;32m    596\u001b[0m \u001b[39mif\u001b[39;00m \u001b[39mnot\u001b[39;00m parent\u001b[39m.\u001b[39mis_dir():\n\u001b[1;32m--> 597\u001b[0m     \u001b[39mraise\u001b[39;00m \u001b[39mOSError\u001b[39;00m(\u001b[39mrf\u001b[39m\u001b[39m\"\u001b[39m\u001b[39mCannot save file into a non-existent directory: \u001b[39m\u001b[39m'\u001b[39m\u001b[39m{\u001b[39;00mparent\u001b[39m}\u001b[39;00m\u001b[39m'\u001b[39m\u001b[39m\"\u001b[39m)\n",
      "\u001b[1;31mOSError\u001b[0m: Cannot save file into a non-existent directory: 'F:\\movie_recommendor'"
     ]
    }
   ],
   "source": [
    "giverating(270896,110,5)\n",
    "ratings=merge(ratings1,ratings)\n"
   ]
  },
  {
   "cell_type": "code",
   "execution_count": null,
   "metadata": {},
   "outputs": [],
   "source": [
    "from random import randint\n",
    "def main(userid):\n",
    "    if ratings[ratings[\"userId\"]==userid].size==0:\n",
    "          \n",
    "          for i in range(25):\n",
    "            print(new_ds.iloc[randint(0,45538)][\"title1\"])\n",
    "          \n",
    "    else:\n",
    "         a=get_recommendations(userid)\n",
    "         recommendonmovie(a)\n",
    "         print('rated')\n",
    "main(270895)"
   ]
  },
  {
   "cell_type": "code",
   "execution_count": 26,
   "metadata": {},
   "outputs": [],
   "source": [
    "import streamlit as st\n",
    "import pickle\n",
    "movies_all = pd.read_csv(\"../pynbs/moviesall.csv\").values\n",
    "\n",
    "st.title(\"Movie Recommender System\")\n",
    "option = st.selectbox(\"ABC\",movies_all)\n",
    "\n"
   ]
  },
  {
   "cell_type": "code",
   "execution_count": null,
   "metadata": {},
   "outputs": [],
   "source": []
  }
 ],
 "metadata": {
  "kernelspec": {
   "display_name": "base",
   "language": "python",
   "name": "python3"
  },
  "language_info": {
   "codemirror_mode": {
    "name": "ipython",
    "version": 3
   },
   "file_extension": ".py",
   "mimetype": "text/x-python",
   "name": "python",
   "nbconvert_exporter": "python",
   "pygments_lexer": "ipython3",
   "version": "3.10.9"
  },
  "orig_nbformat": 4
 },
 "nbformat": 4,
 "nbformat_minor": 2
}
