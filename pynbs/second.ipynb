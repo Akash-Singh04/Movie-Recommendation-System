{
 "cells": [
  {
   "cell_type": "code",
   "execution_count": 1,
   "metadata": {},
   "outputs": [],
   "source": [
    "import numpy as np\n",
    "import pandas as pd\n",
    "import joblib"
   ]
  },
  {
   "cell_type": "code",
   "execution_count": 3,
   "metadata": {},
   "outputs": [],
   "source": [
    "new_ds=pd.read_csv(\"new_ds.csv\")\n",
    "svd=joblib.load('../models/svd_model.pkl')\n",
    "ratings=pd.read_csv(r\"../dataset/ratings.csv\")"
   ]
  },
  {
   "cell_type": "code",
   "execution_count": 4,
   "metadata": {},
   "outputs": [],
   "source": [
    "def recommendonmovie(movie):\n",
    "    similarity=np.load('similaritybwmovies.npy')\n",
    "    movie_index=new_ds[new_ds[\"title1\"]==movie].index[0]\n",
    "    distances=similarity[movie_index]\n",
    "    movies_list=sorted(list(enumerate(distances)),reverse=True,key=lambda x:x[1])[1:11]\n",
    "    for i in movies_list:\n",
    "        print(new_ds.iloc[i[0]].title1)\n",
    "    "
   ]
  },
  {
   "cell_type": "code",
   "execution_count": 5,
   "metadata": {},
   "outputs": [],
   "source": [
    "def del_variable(variable1):\n",
    "    del variable1\n",
    "del_variable(svd)"
   ]
  },
  {
   "cell_type": "code",
   "execution_count": 6,
   "metadata": {},
   "outputs": [],
   "source": [
    "def get_best_movies(obj,id,obj1):\n",
    "    movieid=obj1['id'].unique()\n",
    "    l=[]\n",
    "    b=[]\n",
    "    for movie in movieid:\n",
    "        result=svd.predict(id,movie)\n",
    "        estimation=result[3]\n",
    "        b.append((movie,estimation))\n",
    "    return b"
   ]
  },
  {
   "cell_type": "code",
   "execution_count": 7,
   "metadata": {},
   "outputs": [],
   "source": [
    "def get_recommendations(userid):\n",
    "    predictions=get_best_movies(ratings,userid,new_ds)\n",
    "    lis=[]\n",
    "    sorted_predictions=sorted(predictions,key=lambda x:x[1],reverse=True)\n",
    "    sorted_predictions=sorted_predictions[0:10]\n",
    "    \n",
    "    for i in sorted_predictions:\n",
    "        specific_row =new_ds[new_ds[\"id\"]==i[0]]['title1'].values[0]\n",
    "        print(specific_row)\n",
    "        "
   ]
  },
  {
   "cell_type": "code",
   "execution_count": 8,
   "metadata": {},
   "outputs": [
    {
     "name": "stdout",
     "output_type": "stream",
     "text": [
      "5 Card Stud\n",
      "The Scapegoat\n",
      "Sleepless in Seattle\n",
      "The Million Dollar Hotel\n",
      "CrissCross\n",
      "Shriek If You Know What I Did Last Friday the Thirteenth\n",
      "A Woman, a Gun and a Noodle Shop\n",
      "The 39 Steps\n",
      "License to Wed\n",
      "Commune\n"
     ]
    }
   ],
   "source": [
    "get_recommendations(7800)"
   ]
  },
  {
   "cell_type": "code",
   "execution_count": 10,
   "metadata": {},
   "outputs": [
    {
     "name": "stdout",
     "output_type": "stream",
     "text": [
      "The Quiller Memorandum\n",
      "The Secret Fury\n",
      "Secret Agent\n",
      "Topaz\n",
      "The Unsuspected\n",
      "Deadly Blessing\n",
      "Mystery Road\n",
      "The Marksman\n",
      "A Night to Remember\n",
      "The Missing Juror\n"
     ]
    }
   ],
   "source": [
    "recommendonmovie('The 39 Steps')"
   ]
  },
  {
   "cell_type": "code",
   "execution_count": 11,
   "metadata": {},
   "outputs": [],
   "source": [
    "moviesnew=pd.read_csv(r\"moviesnew.csv\")"
   ]
  },
  {
   "attachments": {},
   "cell_type": "markdown",
   "metadata": {},
   "source": []
  },
  {
   "cell_type": "code",
   "execution_count": 12,
   "metadata": {},
   "outputs": [],
   "source": [
    "moviesnew['tag']=moviesnew['tag'].apply(lambda x:x.replace(\" \",''))\n",
    "moviesnew['tag']=moviesnew['tag'].apply(lambda x:x.lower())"
   ]
  },
  {
   "cell_type": "code",
   "execution_count": 19,
   "metadata": {},
   "outputs": [],
   "source": [
    "import re\n",
    "def search(keywords):\n",
    "    \n",
    "    keywords=keywords.lower()\n",
    "    keywords=keywords.split()\n",
    "  \n",
    "    # Filter the DataFrame based on the keywords\n",
    "    filtered_rows = []\n",
    "    for index, row in moviesnew.iterrows():\n",
    "        text = row['tag']\n",
    "        \n",
    "        if all(re.search(keyword, text) for keyword in keywords):\n",
    "            filtered_rows.append(row)\n",
    "        \n",
    "        \n",
    "\n",
    "    filtered_df = pd.DataFrame(filtered_rows)\n",
    "\n",
    "    filtered_df=filtered_df.sort_values(by='vote_average',ascending=False)\n",
    "    # Print the filtered DataFrame\n",
    "    print(filtered_df['title1'].head(10))\n"
   ]
  },
  {
   "cell_type": "code",
   "execution_count": 21,
   "metadata": {},
   "outputs": [
    {
     "name": "stdout",
     "output_type": "stream",
     "text": [
      "42875                                       Zombie Pizza\n",
      "31156                                          Zapatlela\n",
      "43154                       Carnage: Swallowing the Past\n",
      "24413                                            Ward 13\n",
      "44465                      Hasan Minhaj: Homecoming King\n",
      "29115    Forklift Driver Klaus: The First Day on the Job\n",
      "38196                                      Mock Up on Mu\n",
      "1090                                       The Sleepover\n",
      "27652                             Danger! 50,000 Zombies\n",
      "13445                                    Singapore Sling\n",
      "Name: title1, dtype: object\n"
     ]
    }
   ],
   "source": [
    "search(\"horror comedy\")\n"
   ]
  },
  {
   "cell_type": "code",
   "execution_count": 22,
   "metadata": {},
   "outputs": [
    {
     "data": {
      "text/html": [
       "<div>\n",
       "<style scoped>\n",
       "    .dataframe tbody tr th:only-of-type {\n",
       "        vertical-align: middle;\n",
       "    }\n",
       "\n",
       "    .dataframe tbody tr th {\n",
       "        vertical-align: top;\n",
       "    }\n",
       "\n",
       "    .dataframe thead th {\n",
       "        text-align: right;\n",
       "    }\n",
       "</style>\n",
       "<table border=\"1\" class=\"dataframe\">\n",
       "  <thead>\n",
       "    <tr style=\"text-align: right;\">\n",
       "      <th></th>\n",
       "      <th>userId</th>\n",
       "      <th>movieId</th>\n",
       "      <th>rating</th>\n",
       "      <th>timestamp</th>\n",
       "    </tr>\n",
       "  </thead>\n",
       "  <tbody>\n",
       "    <tr>\n",
       "      <th>0</th>\n",
       "      <td>1</td>\n",
       "      <td>110</td>\n",
       "      <td>1.0</td>\n",
       "      <td>1425941529</td>\n",
       "    </tr>\n",
       "    <tr>\n",
       "      <th>1</th>\n",
       "      <td>1</td>\n",
       "      <td>147</td>\n",
       "      <td>4.5</td>\n",
       "      <td>1425942435</td>\n",
       "    </tr>\n",
       "    <tr>\n",
       "      <th>2</th>\n",
       "      <td>1</td>\n",
       "      <td>858</td>\n",
       "      <td>5.0</td>\n",
       "      <td>1425941523</td>\n",
       "    </tr>\n",
       "    <tr>\n",
       "      <th>3</th>\n",
       "      <td>1</td>\n",
       "      <td>1221</td>\n",
       "      <td>5.0</td>\n",
       "      <td>1425941546</td>\n",
       "    </tr>\n",
       "    <tr>\n",
       "      <th>4</th>\n",
       "      <td>1</td>\n",
       "      <td>1246</td>\n",
       "      <td>5.0</td>\n",
       "      <td>1425941556</td>\n",
       "    </tr>\n",
       "    <tr>\n",
       "      <th>...</th>\n",
       "      <td>...</td>\n",
       "      <td>...</td>\n",
       "      <td>...</td>\n",
       "      <td>...</td>\n",
       "    </tr>\n",
       "    <tr>\n",
       "      <th>26024283</th>\n",
       "      <td>270896</td>\n",
       "      <td>56367</td>\n",
       "      <td>4.5</td>\n",
       "      <td>1257031529</td>\n",
       "    </tr>\n",
       "    <tr>\n",
       "      <th>26024284</th>\n",
       "      <td>270896</td>\n",
       "      <td>58559</td>\n",
       "      <td>5.0</td>\n",
       "      <td>1257031564</td>\n",
       "    </tr>\n",
       "    <tr>\n",
       "      <th>26024285</th>\n",
       "      <td>270896</td>\n",
       "      <td>60069</td>\n",
       "      <td>5.0</td>\n",
       "      <td>1257032032</td>\n",
       "    </tr>\n",
       "    <tr>\n",
       "      <th>26024286</th>\n",
       "      <td>270896</td>\n",
       "      <td>63082</td>\n",
       "      <td>4.5</td>\n",
       "      <td>1257031764</td>\n",
       "    </tr>\n",
       "    <tr>\n",
       "      <th>26024287</th>\n",
       "      <td>270896</td>\n",
       "      <td>64957</td>\n",
       "      <td>4.5</td>\n",
       "      <td>1257033990</td>\n",
       "    </tr>\n",
       "  </tbody>\n",
       "</table>\n",
       "<p>26024288 rows × 4 columns</p>\n",
       "</div>"
      ],
      "text/plain": [
       "          userId  movieId  rating   timestamp\n",
       "0              1      110     1.0  1425941529\n",
       "1              1      147     4.5  1425942435\n",
       "2              1      858     5.0  1425941523\n",
       "3              1     1221     5.0  1425941546\n",
       "4              1     1246     5.0  1425941556\n",
       "...          ...      ...     ...         ...\n",
       "26024283  270896    56367     4.5  1257031529\n",
       "26024284  270896    58559     5.0  1257031564\n",
       "26024285  270896    60069     5.0  1257032032\n",
       "26024286  270896    63082     4.5  1257031764\n",
       "26024287  270896    64957     4.5  1257033990\n",
       "\n",
       "[26024288 rows x 4 columns]"
      ]
     },
     "execution_count": 22,
     "metadata": {},
     "output_type": "execute_result"
    }
   ],
   "source": [
    "ratings.head(-1)"
   ]
  },
  {
   "cell_type": "code",
   "execution_count": null,
   "metadata": {},
   "outputs": [],
   "source": []
  }
 ],
 "metadata": {
  "kernelspec": {
   "display_name": "base",
   "language": "python",
   "name": "python3"
  },
  "language_info": {
   "codemirror_mode": {
    "name": "ipython",
    "version": 3
   },
   "file_extension": ".py",
   "mimetype": "text/x-python",
   "name": "python",
   "nbconvert_exporter": "python",
   "pygments_lexer": "ipython3",
   "version": "3.10.9"
  },
  "orig_nbformat": 4
 },
 "nbformat": 4,
 "nbformat_minor": 2
}
